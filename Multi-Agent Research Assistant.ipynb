{
  "nbformat": 4,
  "nbformat_minor": 0,
  "metadata": {
    "colab": {
      "provenance": [],
      "authorship_tag": "ABX9TyMgw6pffKNctHYCePJwDU+p",
      "include_colab_link": true
    },
    "kernelspec": {
      "name": "python3",
      "display_name": "Python 3"
    },
    "language_info": {
      "name": "python"
    }
  },
  "cells": [
    {
      "cell_type": "markdown",
      "metadata": {
        "id": "view-in-github",
        "colab_type": "text"
      },
      "source": [
        "<a href=\"https://colab.research.google.com/github/shandarmodabbir/Multi-Agent-Research-Assistant/blob/main/Multi-Agent%20Research%20Assistant.ipynb\" target=\"_parent\"><img src=\"https://colab.research.google.com/assets/colab-badge.svg\" alt=\"Open In Colab\"/></a>"
      ]
    },
    {
      "cell_type": "code",
      "source": [
        "!pip install google-search-results"
      ],
      "metadata": {
        "colab": {
          "base_uri": "https://localhost:8080/"
        },
        "id": "kTn3XYs9K7qm",
        "outputId": "9df6810e-4c07-4aef-fa76-ef1a2b2f0a85"
      },
      "execution_count": 22,
      "outputs": [
        {
          "output_type": "stream",
          "name": "stdout",
          "text": [
            "Collecting google-search-results\n",
            "  Downloading google_search_results-2.4.2.tar.gz (18 kB)\n",
            "  Preparing metadata (setup.py) ... \u001b[?25l\u001b[?25hdone\n",
            "Requirement already satisfied: requests in /usr/local/lib/python3.11/dist-packages (from google-search-results) (2.32.3)\n",
            "Requirement already satisfied: charset-normalizer<4,>=2 in /usr/local/lib/python3.11/dist-packages (from requests->google-search-results) (3.4.2)\n",
            "Requirement already satisfied: idna<4,>=2.5 in /usr/local/lib/python3.11/dist-packages (from requests->google-search-results) (3.10)\n",
            "Requirement already satisfied: urllib3<3,>=1.21.1 in /usr/local/lib/python3.11/dist-packages (from requests->google-search-results) (2.4.0)\n",
            "Requirement already satisfied: certifi>=2017.4.17 in /usr/local/lib/python3.11/dist-packages (from requests->google-search-results) (2025.4.26)\n",
            "Building wheels for collected packages: google-search-results\n",
            "  Building wheel for google-search-results (setup.py) ... \u001b[?25l\u001b[?25hdone\n",
            "  Created wheel for google-search-results: filename=google_search_results-2.4.2-py3-none-any.whl size=32010 sha256=8b5e1c8b803f401c74f9a8d5d35f2fa76238356ed2413750f02cc22c8e5414c0\n",
            "  Stored in directory: /root/.cache/pip/wheels/6e/42/3e/aeb691b02cb7175ec70e2da04b5658d4739d2b41e5f73cd06f\n",
            "Successfully built google-search-results\n",
            "Installing collected packages: google-search-results\n",
            "Successfully installed google-search-results-2.4.2\n"
          ]
        }
      ]
    },
    {
      "cell_type": "code",
      "execution_count": 14,
      "metadata": {
        "id": "FnRBh8qeE-Ci",
        "colab": {
          "base_uri": "https://localhost:8080/"
        },
        "outputId": "fd43fc89-63a5-45a1-f4e5-cba80c1b6d68"
      },
      "outputs": [
        {
          "name": "stdout",
          "output_type": "stream",
          "text": [
            "\u001b[?25l   \u001b[90m━━━━━━━━━━━━━━━━━━━━━━━━━━━━━━━━━━━━━━━━\u001b[0m \u001b[32m0.0/2.5 MB\u001b[0m \u001b[31m?\u001b[0m eta \u001b[36m-:--:--\u001b[0m\r\u001b[2K   \u001b[91m━━━━━━━━━━━━━━━━━━━━━━━━\u001b[0m\u001b[90m╺\u001b[0m\u001b[90m━━━━━━━━━━━━━━━\u001b[0m \u001b[32m1.5/2.5 MB\u001b[0m \u001b[31m46.3 MB/s\u001b[0m eta \u001b[36m0:00:01\u001b[0m\r\u001b[2K   \u001b[90m━━━━━━━━━━━━━━━━━━━━━━━━━━━━━━━━━━━━━━━━\u001b[0m \u001b[32m2.5/2.5 MB\u001b[0m \u001b[31m40.5 MB/s\u001b[0m eta \u001b[36m0:00:00\u001b[0m\n",
            "\u001b[?25h\u001b[?25l   \u001b[90m━━━━━━━━━━━━━━━━━━━━━━━━━━━━━━━━━━━━━━━━\u001b[0m \u001b[32m0.0/44.4 kB\u001b[0m \u001b[31m?\u001b[0m eta \u001b[36m-:--:--\u001b[0m\r\u001b[2K   \u001b[90m━━━━━━━━━━━━━━━━━━━━━━━━━━━━━━━━━━━━━━━━\u001b[0m \u001b[32m44.4/44.4 kB\u001b[0m \u001b[31m2.6 MB/s\u001b[0m eta \u001b[36m0:00:00\u001b[0m\n",
            "\u001b[?25h\u001b[?25l   \u001b[90m━━━━━━━━━━━━━━━━━━━━━━━━━━━━━━━━━━━━━━━━\u001b[0m \u001b[32m0.0/50.9 kB\u001b[0m \u001b[31m?\u001b[0m eta \u001b[36m-:--:--\u001b[0m\r\u001b[2K   \u001b[90m━━━━━━━━━━━━━━━━━━━━━━━━━━━━━━━━━━━━━━━━\u001b[0m \u001b[32m50.9/50.9 kB\u001b[0m \u001b[31m3.2 MB/s\u001b[0m eta \u001b[36m0:00:00\u001b[0m\n",
            "\u001b[?25h Enter your GROQ_API_KEY: ··········\n",
            " Enter your SERPAPI_API_KEY: ··········\n"
          ]
        }
      ],
      "source": [
        "!pip install -q litellm python-dotenv\n",
        "!pip install -q litellm langchain langchain-community python-dotenv\n",
        "\n",
        "import os\n",
        "from getpass import getpass\n",
        "from litellm import completion\n",
        "\n",
        "os.environ[\"GROQ_API_KEY\"] = getpass(\" Enter your GROQ_API_KEY: \")\n",
        "api_key = os.environ[\"GROQ_API_KEY\"]\n",
        "api_base = \"https://api.groq.com/openai/v1\"\n",
        "\n",
        "os.environ[\"SERPAPI_API_KEY\"] = getpass(\" Enter your SERPAPI_API_KEY: \")\n"
      ]
    },
    {
      "cell_type": "code",
      "source": [
        "def query_groq(prompt, model=\"llama3-8b-8192\"):\n",
        "    response = completion(\n",
        "        model=model,\n",
        "        messages=[{\"role\": \"user\", \"content\": prompt}],\n",
        "        api_key=api_key,\n",
        "        api_base=api_base,\n",
        "        temperature=0.7,\n",
        "        max_tokens=512\n",
        "    )\n",
        "    return response[\"choices\"][0][\"message\"][\"content\"]"
      ],
      "metadata": {
        "id": "mZgX_JzmGapy"
      },
      "execution_count": 15,
      "outputs": []
    },
    {
      "cell_type": "code",
      "source": [
        "from langchain_community.utilities import SerpAPIWrapper\n",
        "\n",
        "def get_research_material(query: str):\n",
        "    search = SerpAPIWrapper(serpapi_api_key=os.environ[\"SERPAPI_API_KEY\"])\n",
        "    return search.run(query + \" site:arxiv.org OR site:researchgate.net\")\n"
      ],
      "metadata": {
        "id": "XYUrb_8uKoPR"
      },
      "execution_count": 16,
      "outputs": []
    },
    {
      "cell_type": "code",
      "source": [
        "from langchain.prompts import PromptTemplate\n",
        "\n",
        "def summarize_content(content: str):\n",
        "    prompt = PromptTemplate.from_template(\"\"\"\n",
        "    Summarize the following content clearly and concisely for a research audience:\n",
        "\n",
        "    {content}\n",
        "    \"\"\")\n",
        "\n",
        "    final_prompt = prompt.format(content=content)\n",
        "    return query_groq(final_prompt)\n"
      ],
      "metadata": {
        "id": "Dwq9qlmRGEjk"
      },
      "execution_count": 24,
      "outputs": []
    },
    {
      "cell_type": "code",
      "source": [
        "def compare_sources(summaries: list):\n",
        "    joined = \"\\n\\n\".join(summaries)\n",
        "    prompt = f\"\"\"\n",
        "    Compare and critique the following research summaries. Highlight differing views and any gaps:\\n\\n{joined}\n",
        "    \"\"\"\n",
        "    return query_groq(prompt)\n"
      ],
      "metadata": {
        "id": "8S-RopxmGFJb"
      },
      "execution_count": 18,
      "outputs": []
    },
    {
      "cell_type": "code",
      "source": [
        "def generate_report(summaries, critique):\n",
        "    joined = \"\\n\\n\".join(summaries)\n",
        "    prompt = f\"\"\"\n",
        "    Based on the summaries and critique below, write a clear research brief:\n",
        "\n",
        "    === Summaries ===\n",
        "    {joined}\n",
        "\n",
        "    === Critique ===\n",
        "    {critique}\n",
        "    \"\"\"\n",
        "    return query_groq(prompt)"
      ],
      "metadata": {
        "id": "QGXa8S1PGFbr"
      },
      "execution_count": 19,
      "outputs": []
    },
    {
      "cell_type": "code",
      "source": [
        "def run_pipeline(query: str):\n",
        "    print(\"🔍 Searching for material...\")\n",
        "    results = get_research_material(query)\n",
        "\n",
        "    print(\"🧾 Summarizing content...\")\n",
        "\n",
        "    summaries = [summarize_content(results)]\n",
        "\n",
        "    print(\"⚖️ Comparing sources...\")\n",
        "    critique = compare_sources(summaries)\n",
        "\n",
        "    print(\"🧑‍🏫 Generating report...\")\n",
        "    report = generate_report(summaries, critique)\n",
        "\n",
        "    return report\n"
      ],
      "metadata": {
        "id": "F_t0Gyx7GFsz"
      },
      "execution_count": 25,
      "outputs": []
    },
    {
      "cell_type": "code",
      "source": [
        "prompt = \"Summarize the latest advancements in reinforcement learning for robotics.\"\n",
        "response = run_pipeline(prompt)\n",
        "print(\"Response:\\n\", response)\n"
      ],
      "metadata": {
        "colab": {
          "base_uri": "https://localhost:8080/"
        },
        "id": "6tOqwMhYGAMW",
        "outputId": "4886f8d0-5e44-465e-d1cb-82b6585e5633"
      },
      "execution_count": 26,
      "outputs": [
        {
          "output_type": "stream",
          "name": "stdout",
          "text": [
            "🔍 Searching for material...\n",
            "🧾 Summarizing content...\n",
            "⚖️ Comparing sources...\n",
            "🧑‍🏫 Generating report...\n",
            "Response:\n",
            " Here is a clear research brief based on the summaries and critique:\n",
            "\n",
            "**Title:** Deep Reinforcement Learning in Robotics: A Review of Recent Advances and Future Directions\n",
            "\n",
            "**Objective:**\n",
            "\n",
            "The objective of this research is to conduct a comprehensive review of recent studies on Deep Reinforcement Learning (DRL) and Inverse Reinforcement Learning in robotics, focusing on the past five years of research. The review aims to provide a balanced assessment of the strengths and limitations of DRL in robotics, highlighting its potential benefits, challenges, and competing approaches.\n",
            "\n",
            "**Scope:**\n",
            "\n",
            "The review will cover various application domains, including optimization in automation, and evaluate the real-world successes achieved with DRL in robotics. The research will also provide a comprehensive overview of RL techniques, including the development of novel artificial agents and the integration of RL with foundation models.\n",
            "\n",
            "**Research Questions:**\n",
            "\n",
            "1. What are the recent advancements in DRL and Inverse Reinforcement Learning in robotics, and what are their potential benefits and limitations?\n",
            "2. How have DRL and Inverse Reinforcement Learning been applied in various robotics domains, and what are the real-world successes achieved?\n",
            "3. What are the challenges and limitations faced in applying DRL to robotics, and how can these be addressed?\n",
            "4. What are the competing approaches to DRL in robotics, and how do they compare in terms of performance and applicability?\n",
            "\n",
            "**Methodology:**\n",
            "\n",
            "The review will involve a systematic search of recent studies on DRL and Inverse Reinforcement Learning in robotics, focusing on papers published in top-tier conferences and journals. The studies will be evaluated based on their research methods, results, and implications, and a critical analysis will be performed to identify the strengths, limitations, and gaps in the current research.\n",
            "\n",
            "**Expected Outcomes:**\n",
            "\n",
            "The review aims to provide a comprehensive overview of the current state-of-the-art in DRL for robotics, discussing the most promising future directions for research. The expected outcomes include:\n",
            "\n",
            "1. A detailed analysis of the recent advancements in DRL and Inverse Reinforcement Learning in robotics.\n",
            "2. An evaluation of the real-world successes achieved with DRL in robotics and the challenges faced in applying it.\n",
            "3. A comparison of DRL with competing approaches in robotics, highlighting their benefits and limitations.\n",
            "4. Recommendations for future research directions and potential applications of DRL in robotics.\n",
            "\n",
            "**Timeline:**\n",
            "\n",
            "The review is expected to be completed within [insert timeframe], with a detailed report and presentation prepared for submission.\n"
          ]
        }
      ]
    },
    {
      "cell_type": "code",
      "source": [],
      "metadata": {
        "id": "neqbKnD4HorB"
      },
      "execution_count": null,
      "outputs": []
    }
  ]
}